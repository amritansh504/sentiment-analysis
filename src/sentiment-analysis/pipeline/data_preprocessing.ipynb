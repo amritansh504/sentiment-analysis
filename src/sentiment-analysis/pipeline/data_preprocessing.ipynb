{
 "cells": [
  {
   "cell_type": "code",
   "execution_count": 55,
   "id": "a9bf7792-89fe-4cd7-9993-9c7a80cd79a8",
   "metadata": {
    "ExecuteTime": {
     "end_time": "2025-05-05T00:48:08.749033Z",
     "start_time": "2025-05-05T00:48:05.712095Z"
    }
   },
   "outputs": [],
   "source": [
    "import pandas as pd"
   ]
  },
  {
   "cell_type": "code",
   "execution_count": 56,
   "id": "83e59e59-0a79-426a-8e9d-4dd0c213797a",
   "metadata": {
    "ExecuteTime": {
     "end_time": "2025-05-05T00:48:09.107089Z",
     "start_time": "2025-05-05T00:48:08.789296Z"
    }
   },
   "outputs": [],
   "source": [
    "df = pd.read_csv('../../../datasets/combined_dataset.csv')"
   ]
  },
  {
   "cell_type": "code",
   "execution_count": 57,
   "id": "e0238e24-8817-4313-91b8-a8d758cccc91",
   "metadata": {
    "ExecuteTime": {
     "end_time": "2025-05-05T00:48:09.124544Z",
     "start_time": "2025-05-05T00:48:09.120461Z"
    }
   },
   "outputs": [],
   "source": [
    "df['Rating'] = df['Rating'].astype(int)"
   ]
  },
  {
   "cell_type": "code",
   "execution_count": 58,
   "id": "7ce12004-cca5-4b52-a5fd-46f49562336b",
   "metadata": {
    "ExecuteTime": {
     "end_time": "2025-05-05T00:48:09.138900Z",
     "start_time": "2025-05-05T00:48:09.135453Z"
    }
   },
   "outputs": [],
   "source": [
    "def label_sentiment(Rating):\n",
    "    if Rating >=7:\n",
    "        return 'positive'\n",
    "    elif Rating ==5 or Rating ==6:\n",
    "        return 'neutral'\n",
    "    else:\n",
    "        return 'negative'"
   ]
  },
  {
   "cell_type": "code",
   "execution_count": 59,
   "id": "a6f8594e-c1f2-4944-91a2-598885bb3c42",
   "metadata": {
    "ExecuteTime": {
     "end_time": "2025-05-04T19:04:40.765631Z",
     "start_time": "2025-05-04T19:04:40.755159Z"
    }
   },
   "outputs": [],
   "source": [
    "df['Sentiment'] = df['Rating'].apply(label_sentiment)"
   ]
  },
  {
   "cell_type": "code",
   "execution_count": 62,
   "id": "bdc0fa53-52ae-4812-b971-dd13e3ebad6f",
   "metadata": {
    "ExecuteTime": {
     "end_time": "2025-05-04T19:04:41.815861Z",
     "start_time": "2025-05-04T19:04:41.405727Z"
    }
   },
   "outputs": [],
   "source": [
    "df.to_csv('../../../labeled_dataset.csv', index = False)"
   ]
  },
  {
   "cell_type": "code",
   "execution_count": 63,
   "id": "db09f290-5e75-4a86-b3da-41f567b5a714",
   "metadata": {
    "ExecuteTime": {
     "end_time": "2025-05-05T00:48:09.816653Z",
     "start_time": "2025-05-05T00:48:09.149810Z"
    }
   },
   "outputs": [
    {
     "name": "stdout",
     "output_type": "stream",
     "text": [
      "Sentiment\n",
      "positive    10668\n",
      "negative     7805\n",
      "neutral      2408\n",
      "Name: count, dtype: int64\n"
     ]
    }
   ],
   "source": [
    "print(df['Sentiment'].value_counts())"
   ]
  },
  {
   "cell_type": "code",
   "execution_count": 64,
   "id": "47ec642e-ebf0-4c90-9c46-4b45eea6afe1",
   "metadata": {
    "ExecuteTime": {
     "end_time": "2025-05-04T19:05:00.358098Z",
     "start_time": "2025-05-04T19:05:00.070449Z"
    }
   },
   "outputs": [],
   "source": [
    "positive = df[df['Sentiment'] == 'positive'].sample(n = 7800, random_state = 42)\n",
    "negative = df[df['Sentiment'] == 'negative'].sample(n = 7800, random_state = 42)\n",
    "neutral = df[df['Sentiment'] == 'neutral']\n",
    "\n",
    "balanced_df = pd.concat([positive,negative], ignore_index=True).sample(frac=1, random_state = 42)\n",
    "\n",
    "balanced_df.to_csv('../../../datasets/balanced.csv', index=False)"
   ]
  },
  {
   "cell_type": "code",
   "execution_count": 65,
   "id": "ecbc4efd-9d31-4e85-90ed-abfff5f5071a",
   "metadata": {
    "ExecuteTime": {
     "end_time": "2025-05-05T00:48:48.366310Z",
     "start_time": "2025-05-05T00:48:48.131820Z"
    }
   },
   "outputs": [
    {
     "name": "stdout",
     "output_type": "stream",
     "text": [
      "Sentiment\n",
      "negative    7800\n",
      "positive    7800\n",
      "Name: count, dtype: int64\n"
     ]
    }
   ],
   "source": [
    "df_bal = pd.read_csv('../../../datasets/balanced.csv')\n",
    "print(df_bal['Sentiment'].value_counts())"
   ]
  },
  {
   "cell_type": "code",
   "execution_count": 66,
   "id": "8d32791a-e56b-4921-89c8-e97d7bbd805a",
   "metadata": {
    "ExecuteTime": {
     "end_time": "2025-05-05T01:29:07.930002Z",
     "start_time": "2025-05-05T01:29:07.914565Z"
    }
   },
   "outputs": [
    {
     "name": "stdout",
     "output_type": "stream",
     "text": [
      "Train size: 12480 | Test size: 3120\n",
      "Train class counts:\n",
      " Sentiment\n",
      "positive    6240\n",
      "negative    6240\n",
      "Name: count, dtype: int64\n",
      "Test class counts:\n",
      " Sentiment\n",
      "negative    1560\n",
      "positive    1560\n",
      "Name: count, dtype: int64\n"
     ]
    }
   ],
   "source": [
    "from sklearn.model_selection import train_test_split\n",
    "train_df, test_df = train_test_split(df_bal, test_size = 0.2, stratify=df_bal['Sentiment'], random_state = 42)\n",
    "print(f\"Train size: {len(train_df)} | Test size: {len(test_df)}\")\n",
    "print(\"Train class counts:\\n\", train_df['Sentiment'].value_counts())\n",
    "print(\"Test class counts:\\n\", test_df['Sentiment'].value_counts())"
   ]
  },
  {
   "cell_type": "code",
   "execution_count": 67,
   "id": "cfe755e385b0c1c5",
   "metadata": {
    "ExecuteTime": {
     "end_time": "2025-05-05T01:45:19.235254Z",
     "start_time": "2025-05-05T01:45:18.416312Z"
    }
   },
   "outputs": [],
   "source": [
    "import re\n",
    "def clean_text(text):\n",
    "    text = text.lower()\n",
    "    text = re.sub(r'[^a-zA-Z0-9\\s.,!?]', '', text)\n",
    "    text = re.sub(r'\\s+', ' ', text).strip()\n",
    "    return text\n",
    "train_df['cleaned_review'] = train_df['Review'].apply(clean_text)\n",
    "test_df['cleaned_review'] = test_df['Review'].apply(clean_text)"
   ]
  },
  {
   "cell_type": "code",
   "execution_count": null,
   "id": "59dae95cadc9c348",
   "metadata": {
    "ExecuteTime": {
     "end_time": "2025-05-06T04:16:03.784310Z",
     "start_time": "2025-05-06T04:16:03.750248Z"
    }
   },
   "outputs": [],
   "source": [
    "import nltk\n",
    "from nltk.corpus import stopwords\n",
    "import spacy\n",
    "\n",
    "nltk.download('stopwords')\n",
    "spacy.cli.download(\"en_core_web_sm\")\n",
    "nlp = spacy.load(\"en_core_web_sm\")\n",
    "\n",
    "stop_words = set(stopwords.words('english'))\n"
   ]
  },
  {
   "cell_type": "code",
   "execution_count": null,
   "id": "4dcdb859",
   "metadata": {},
   "outputs": [],
   "source": [
    "def lemmantize_and_remove_stopwords(text):\n",
    "    doc = nlp(text)\n",
    "    return ' '. join([\n",
    "        token.lemma_ for token in doc\n",
    "        if token.lemma_ not in stop_words and token.is_alpha\n",
    "    ])\n",
    "    \n",
    "train_df['final_review'] = train_df['cleaned_review'].apply(lemmantize_and_remove_stopwords)\n",
    "test_df['final_review'] = test_df['cleaned_review'].apply(lemmantize_and_remove_stopwords)"
   ]
  },
  {
   "cell_type": "code",
   "execution_count": 43,
   "id": "14e99644d473f20b",
   "metadata": {
    "ExecuteTime": {
     "end_time": "2025-05-05T01:30:44.649858Z",
     "start_time": "2025-05-05T01:30:44.397696Z"
    }
   },
   "outputs": [],
   "source": [
    "train_df[['cleaned_review', 'Sentiment']].to_csv('../../../datasets/train.csv', index=False)\n",
    "test_df[['cleaned_review', 'Sentiment']].to_csv('../../../datasets/test.csv', index=False)"
   ]
  }
 ],
 "metadata": {
  "kernelspec": {
   "display_name": ".venv",
   "language": "python",
   "name": "python3"
  },
  "language_info": {
   "codemirror_mode": {
    "name": "ipython",
    "version": 3
   },
   "file_extension": ".py",
   "mimetype": "text/x-python",
   "name": "python",
   "nbconvert_exporter": "python",
   "pygments_lexer": "ipython3",
   "version": "3.11.9"
  }
 },
 "nbformat": 4,
 "nbformat_minor": 5
}
