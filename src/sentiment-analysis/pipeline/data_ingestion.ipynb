{
 "cells": [
  {
   "cell_type": "code",
   "execution_count": null,
   "id": "initial_id",
   "metadata": {
    "ExecuteTime": {
     "end_time": "2025-05-03T19:11:49.835910Z",
     "start_time": "2025-05-03T19:11:46.062780Z"
    },
    "collapsed": true
   },
   "outputs": [],
   "source": [
    "from selenium import webdriver\n",
    "from selenium.webdriver.common.by import By\n",
    "import time\n",
    "import pandas as pd\n",
    "from selenium.webdriver.support.ui import WebDriverWait\n",
    "from selenium.webdriver.support import expected_conditions as EC"
   ]
  },
  {
   "cell_type": "code",
   "execution_count": null,
   "id": "1fd377590b8dbf7",
   "metadata": {},
   "outputs": [],
   "source": [
    "data=[]\n",
    "\n",
    "driver = webdriver.Chrome()\n",
    "wait = WebDriverWait(driver, 10)\n",
    "driver.get(\"https://www.imdb.com/interest/in0000034/\")\n",
    "\n",
    "elems = driver.find_elements(By.XPATH,\"//a[contains(@class,'ipc-poster-card__title ipc-poster-card__title--clamp-2 ipc-poster-card__title--clickable')]\")\n",
    "hrefs = [elem.get_attribute(\"href\") for elem in elems]\n",
    "\n",
    "for href in hrefs:\n",
    "    review_url = href.split(\"?\")[0] + \"reviews\"\n",
    "    driver.get(review_url)\n",
    "    time.sleep(2)\n",
    "\n",
    "    for _ in range(5):\n",
    "        try:\n",
    "            # Wait for the button to be clickable\n",
    "            load_more = wait.until(\n",
    "                EC.element_to_be_clickable((By.XPATH, \"//button[.//span[contains(text(),'25 more')]]\"))\n",
    "            )\n",
    "            driver.execute_script(\"window.scrollTo(0, document.body.scrollHeight);\")\n",
    "            time.sleep(1)\n",
    "            try:\n",
    "                driver.execute_script(\"arguments[0].click();\", load_more)\n",
    "            except Exception as e:\n",
    "                print(\"Fallback click also failed:\", e)\n",
    "\n",
    "            time.sleep(2)\n",
    "        except Exception as e:\n",
    "            print(\"NOTAVAIL\", e)\n",
    "            break\n",
    "\n",
    "    reviews = driver.find_elements(By.CLASS_NAME, \"ipc-html-content-inner-div\")\n",
    "    ratings = driver.find_elements(By.CLASS_NAME, \"ipc-rating-star--rating\")\n",
    "    for i, (rating, review) in enumerate(list(zip(ratings, reviews))[:115]):\n",
    "        data.append({\n",
    "            \"Rating\": rating.text,\n",
    "            \"Review\": review.text\n",
    "        })\n",
    "df = pd.DataFrame(data)\n",
    "df.to_csv('datasets/initial_dataset.csv', index=False)\n",
    "driver.quit()"
   ]
  },
  {
   "cell_type": "code",
   "execution_count": null,
   "id": "8ff07427cf7c1609",
   "metadata": {},
   "outputs": [],
   "source": [
    "data=[]\n",
    "\n",
    "driver = webdriver.Chrome()\n",
    "wait = WebDriverWait(driver, 10)\n",
    "driver.get(\"https://www.imdb.com/chart/bottom/\")\n",
    "\n",
    "elems = driver.find_elements(By.XPATH,\"//a[contains(@class,'ipc-title-link-wrapper')]\")\n",
    "hrefs = [elem.get_attribute(\"href\") for elem in elems][:100]\n",
    "\n",
    "for href in hrefs:\n",
    "    review_url = href.split(\"?\")[0] + \"reviews\"\n",
    "    driver.get(review_url)\n",
    "    time.sleep(2)\n",
    "\n",
    "    for _ in range(5):\n",
    "        try:\n",
    "            # Wait for the button to be clickable\n",
    "            load_more = wait.until(\n",
    "                EC.element_to_be_clickable((By.XPATH, \"//button[.//span[contains(text(),'25 more')]]\"))\n",
    "            )\n",
    "            driver.execute_script(\"window.scrollTo(0, document.body.scrollHeight);\")\n",
    "            time.sleep(1)\n",
    "            try:\n",
    "                driver.execute_script(\"arguments[0].click();\", load_more)\n",
    "            except Exception as e:\n",
    "                print(\"Fallback click also failed:\", e)\n",
    "\n",
    "            time.sleep(2)\n",
    "        except Exception as e:\n",
    "            print(\"NOTAVAIL\", e)\n",
    "            break\n",
    "\n",
    "    reviews = driver.find_elements(By.CLASS_NAME, \"ipc-html-content-inner-div\")\n",
    "    ratings = driver.find_elements(By.CLASS_NAME, \"ipc-rating-star--rating\")\n",
    "    for i, (rating, review) in enumerate(list(zip(ratings, reviews))[:100]):\n",
    "        data.append({\n",
    "            \"Rating\": rating.text,\n",
    "            \"Review\": review.text\n",
    "        })\n",
    "df = pd.DataFrame(data)\n",
    "df.to_csv('datasets/negative_skew.csv', index=False)\n",
    "\n",
    "driver.quit()"
   ]
  },
  {
   "cell_type": "code",
   "execution_count": null,
   "id": "1b54c4fd81d5d7f4",
   "metadata": {},
   "outputs": [],
   "source": [
    "df1 = pd.read_csv('datasets/initial_dataset.csv')\n",
    "df2 = pd.read_csv('datasets/negative_skew.csv')\n",
    "\n",
    "final_df = pd.concat([df1, df2], ignore_index=True)\n",
    "final_df.to_csv('datasets/combined_dataset.csv', index=False)"
   ]
  }
 ],
 "metadata": {
  "kernelspec": {
   "display_name": "Python 3",
   "language": "python",
   "name": "python3"
  },
  "language_info": {
   "codemirror_mode": {
    "name": "ipython",
    "version": 2
   },
   "file_extension": ".py",
   "mimetype": "text/x-python",
   "name": "python",
   "nbconvert_exporter": "python",
   "pygments_lexer": "ipython2",
   "version": "2.7.6"
  }
 },
 "nbformat": 4,
 "nbformat_minor": 5
}
